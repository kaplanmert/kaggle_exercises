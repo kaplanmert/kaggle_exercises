{
 "cells": [
  {
   "cell_type": "code",
   "execution_count": 1,
   "id": "85a35401",
   "metadata": {
    "_cell_guid": "b1076dfc-b9ad-4769-8c92-a6c4dae69d19",
    "_uuid": "8f2839f25d086af736a60e9eeb907d3b93b6e0e5",
    "execution": {
     "iopub.execute_input": "2022-03-09T21:52:55.341402Z",
     "iopub.status.busy": "2022-03-09T21:52:55.340228Z",
     "iopub.status.idle": "2022-03-09T21:52:55.358213Z",
     "shell.execute_reply": "2022-03-09T21:52:55.358752Z",
     "shell.execute_reply.started": "2022-03-09T21:33:51.545578Z"
    },
    "papermill": {
     "duration": 0.044727,
     "end_time": "2022-03-09T21:52:55.359016",
     "exception": false,
     "start_time": "2022-03-09T21:52:55.314289",
     "status": "completed"
    },
    "tags": []
   },
   "outputs": [
    {
     "name": "stdout",
     "output_type": "stream",
     "text": [
      "/kaggle/input/world-happiness/2015.csv\n",
      "/kaggle/input/world-happiness/2017.csv\n",
      "/kaggle/input/world-happiness/2019.csv\n",
      "/kaggle/input/world-happiness/2018.csv\n",
      "/kaggle/input/world-happiness/2016.csv\n"
     ]
    }
   ],
   "source": [
    "# This Python 3 environment comes with many helpful analytics libraries installed\n",
    "# It is defined by the kaggle/python Docker image: https://github.com/kaggle/docker-python\n",
    "# For example, here's several helpful packages to load\n",
    "\n",
    "import numpy as np # linear algebra\n",
    "import pandas as pd # data processing, CSV file I/O (e.g. pd.read_csv)\n",
    "\n",
    "# Input data files are available in the read-only \"../input/\" directory\n",
    "# For example, running this (by clicking run or pressing Shift+Enter) will list all files under the input directory\n",
    "\n",
    "import os\n",
    "for dirname, _, filenames in os.walk('/kaggle/input'):\n",
    "    for filename in filenames:\n",
    "        print(os.path.join(dirname, filename))\n",
    "\n",
    "# You can write up to 20GB to the current directory (/kaggle/working/) that gets preserved as output when you create a version using \"Save & Run All\" \n",
    "# You can also write temporary files to /kaggle/temp/, but they won't be saved outside of the current session"
   ]
  },
  {
   "cell_type": "code",
   "execution_count": 2,
   "id": "586ab18c",
   "metadata": {
    "execution": {
     "iopub.execute_input": "2022-03-09T21:52:55.407768Z",
     "iopub.status.busy": "2022-03-09T21:52:55.407120Z",
     "iopub.status.idle": "2022-03-09T21:52:55.422690Z",
     "shell.execute_reply": "2022-03-09T21:52:55.423219Z",
     "shell.execute_reply.started": "2022-03-09T21:33:51.588977Z"
    },
    "papermill": {
     "duration": 0.041647,
     "end_time": "2022-03-09T21:52:55.423425",
     "exception": false,
     "start_time": "2022-03-09T21:52:55.381778",
     "status": "completed"
    },
    "tags": []
   },
   "outputs": [],
   "source": [
    "data = pd.read_csv('../input/world-happiness/2019.csv')"
   ]
  },
  {
   "cell_type": "code",
   "execution_count": 3,
   "id": "5ac245ef",
   "metadata": {
    "execution": {
     "iopub.execute_input": "2022-03-09T21:52:55.471103Z",
     "iopub.status.busy": "2022-03-09T21:52:55.470446Z",
     "iopub.status.idle": "2022-03-09T21:52:55.499717Z",
     "shell.execute_reply": "2022-03-09T21:52:55.500294Z",
     "shell.execute_reply.started": "2022-03-09T21:33:54.971367Z"
    },
    "papermill": {
     "duration": 0.054799,
     "end_time": "2022-03-09T21:52:55.500470",
     "exception": false,
     "start_time": "2022-03-09T21:52:55.445671",
     "status": "completed"
    },
    "tags": []
   },
   "outputs": [
    {
     "data": {
      "text/html": [
       "<div>\n",
       "<style scoped>\n",
       "    .dataframe tbody tr th:only-of-type {\n",
       "        vertical-align: middle;\n",
       "    }\n",
       "\n",
       "    .dataframe tbody tr th {\n",
       "        vertical-align: top;\n",
       "    }\n",
       "\n",
       "    .dataframe thead th {\n",
       "        text-align: right;\n",
       "    }\n",
       "</style>\n",
       "<table border=\"1\" class=\"dataframe\">\n",
       "  <thead>\n",
       "    <tr style=\"text-align: right;\">\n",
       "      <th></th>\n",
       "      <th>Overall rank</th>\n",
       "      <th>Country or region</th>\n",
       "      <th>Score</th>\n",
       "      <th>GDP per capita</th>\n",
       "      <th>Social support</th>\n",
       "      <th>Healthy life expectancy</th>\n",
       "      <th>Freedom to make life choices</th>\n",
       "      <th>Generosity</th>\n",
       "      <th>Perceptions of corruption</th>\n",
       "    </tr>\n",
       "  </thead>\n",
       "  <tbody>\n",
       "    <tr>\n",
       "      <th>0</th>\n",
       "      <td>1</td>\n",
       "      <td>Finland</td>\n",
       "      <td>7.769</td>\n",
       "      <td>1.340</td>\n",
       "      <td>1.587</td>\n",
       "      <td>0.986</td>\n",
       "      <td>0.596</td>\n",
       "      <td>0.153</td>\n",
       "      <td>0.393</td>\n",
       "    </tr>\n",
       "    <tr>\n",
       "      <th>1</th>\n",
       "      <td>2</td>\n",
       "      <td>Denmark</td>\n",
       "      <td>7.600</td>\n",
       "      <td>1.383</td>\n",
       "      <td>1.573</td>\n",
       "      <td>0.996</td>\n",
       "      <td>0.592</td>\n",
       "      <td>0.252</td>\n",
       "      <td>0.410</td>\n",
       "    </tr>\n",
       "    <tr>\n",
       "      <th>2</th>\n",
       "      <td>3</td>\n",
       "      <td>Norway</td>\n",
       "      <td>7.554</td>\n",
       "      <td>1.488</td>\n",
       "      <td>1.582</td>\n",
       "      <td>1.028</td>\n",
       "      <td>0.603</td>\n",
       "      <td>0.271</td>\n",
       "      <td>0.341</td>\n",
       "    </tr>\n",
       "    <tr>\n",
       "      <th>3</th>\n",
       "      <td>4</td>\n",
       "      <td>Iceland</td>\n",
       "      <td>7.494</td>\n",
       "      <td>1.380</td>\n",
       "      <td>1.624</td>\n",
       "      <td>1.026</td>\n",
       "      <td>0.591</td>\n",
       "      <td>0.354</td>\n",
       "      <td>0.118</td>\n",
       "    </tr>\n",
       "    <tr>\n",
       "      <th>4</th>\n",
       "      <td>5</td>\n",
       "      <td>Netherlands</td>\n",
       "      <td>7.488</td>\n",
       "      <td>1.396</td>\n",
       "      <td>1.522</td>\n",
       "      <td>0.999</td>\n",
       "      <td>0.557</td>\n",
       "      <td>0.322</td>\n",
       "      <td>0.298</td>\n",
       "    </tr>\n",
       "    <tr>\n",
       "      <th>...</th>\n",
       "      <td>...</td>\n",
       "      <td>...</td>\n",
       "      <td>...</td>\n",
       "      <td>...</td>\n",
       "      <td>...</td>\n",
       "      <td>...</td>\n",
       "      <td>...</td>\n",
       "      <td>...</td>\n",
       "      <td>...</td>\n",
       "    </tr>\n",
       "    <tr>\n",
       "      <th>151</th>\n",
       "      <td>152</td>\n",
       "      <td>Rwanda</td>\n",
       "      <td>3.334</td>\n",
       "      <td>0.359</td>\n",
       "      <td>0.711</td>\n",
       "      <td>0.614</td>\n",
       "      <td>0.555</td>\n",
       "      <td>0.217</td>\n",
       "      <td>0.411</td>\n",
       "    </tr>\n",
       "    <tr>\n",
       "      <th>152</th>\n",
       "      <td>153</td>\n",
       "      <td>Tanzania</td>\n",
       "      <td>3.231</td>\n",
       "      <td>0.476</td>\n",
       "      <td>0.885</td>\n",
       "      <td>0.499</td>\n",
       "      <td>0.417</td>\n",
       "      <td>0.276</td>\n",
       "      <td>0.147</td>\n",
       "    </tr>\n",
       "    <tr>\n",
       "      <th>153</th>\n",
       "      <td>154</td>\n",
       "      <td>Afghanistan</td>\n",
       "      <td>3.203</td>\n",
       "      <td>0.350</td>\n",
       "      <td>0.517</td>\n",
       "      <td>0.361</td>\n",
       "      <td>0.000</td>\n",
       "      <td>0.158</td>\n",
       "      <td>0.025</td>\n",
       "    </tr>\n",
       "    <tr>\n",
       "      <th>154</th>\n",
       "      <td>155</td>\n",
       "      <td>Central African Republic</td>\n",
       "      <td>3.083</td>\n",
       "      <td>0.026</td>\n",
       "      <td>0.000</td>\n",
       "      <td>0.105</td>\n",
       "      <td>0.225</td>\n",
       "      <td>0.235</td>\n",
       "      <td>0.035</td>\n",
       "    </tr>\n",
       "    <tr>\n",
       "      <th>155</th>\n",
       "      <td>156</td>\n",
       "      <td>South Sudan</td>\n",
       "      <td>2.853</td>\n",
       "      <td>0.306</td>\n",
       "      <td>0.575</td>\n",
       "      <td>0.295</td>\n",
       "      <td>0.010</td>\n",
       "      <td>0.202</td>\n",
       "      <td>0.091</td>\n",
       "    </tr>\n",
       "  </tbody>\n",
       "</table>\n",
       "<p>156 rows × 9 columns</p>\n",
       "</div>"
      ],
      "text/plain": [
       "     Overall rank         Country or region  Score  GDP per capita  \\\n",
       "0               1                   Finland  7.769           1.340   \n",
       "1               2                   Denmark  7.600           1.383   \n",
       "2               3                    Norway  7.554           1.488   \n",
       "3               4                   Iceland  7.494           1.380   \n",
       "4               5               Netherlands  7.488           1.396   \n",
       "..            ...                       ...    ...             ...   \n",
       "151           152                    Rwanda  3.334           0.359   \n",
       "152           153                  Tanzania  3.231           0.476   \n",
       "153           154               Afghanistan  3.203           0.350   \n",
       "154           155  Central African Republic  3.083           0.026   \n",
       "155           156               South Sudan  2.853           0.306   \n",
       "\n",
       "     Social support  Healthy life expectancy  Freedom to make life choices  \\\n",
       "0             1.587                    0.986                         0.596   \n",
       "1             1.573                    0.996                         0.592   \n",
       "2             1.582                    1.028                         0.603   \n",
       "3             1.624                    1.026                         0.591   \n",
       "4             1.522                    0.999                         0.557   \n",
       "..              ...                      ...                           ...   \n",
       "151           0.711                    0.614                         0.555   \n",
       "152           0.885                    0.499                         0.417   \n",
       "153           0.517                    0.361                         0.000   \n",
       "154           0.000                    0.105                         0.225   \n",
       "155           0.575                    0.295                         0.010   \n",
       "\n",
       "     Generosity  Perceptions of corruption  \n",
       "0         0.153                      0.393  \n",
       "1         0.252                      0.410  \n",
       "2         0.271                      0.341  \n",
       "3         0.354                      0.118  \n",
       "4         0.322                      0.298  \n",
       "..          ...                        ...  \n",
       "151       0.217                      0.411  \n",
       "152       0.276                      0.147  \n",
       "153       0.158                      0.025  \n",
       "154       0.235                      0.035  \n",
       "155       0.202                      0.091  \n",
       "\n",
       "[156 rows x 9 columns]"
      ]
     },
     "execution_count": 3,
     "metadata": {},
     "output_type": "execute_result"
    }
   ],
   "source": [
    "data"
   ]
  },
  {
   "cell_type": "code",
   "execution_count": 4,
   "id": "174bf619",
   "metadata": {
    "execution": {
     "iopub.execute_input": "2022-03-09T21:52:55.549426Z",
     "iopub.status.busy": "2022-03-09T21:52:55.548780Z",
     "iopub.status.idle": "2022-03-09T21:52:55.560848Z",
     "shell.execute_reply": "2022-03-09T21:52:55.561395Z",
     "shell.execute_reply.started": "2022-03-09T21:38:19.371019Z"
    },
    "papermill": {
     "duration": 0.038391,
     "end_time": "2022-03-09T21:52:55.561574",
     "exception": false,
     "start_time": "2022-03-09T21:52:55.523183",
     "status": "completed"
    },
    "tags": []
   },
   "outputs": [],
   "source": [
    "data = data.drop(['Overall rank','Country or region'],axis=1)"
   ]
  },
  {
   "cell_type": "markdown",
   "id": "627e7600",
   "metadata": {
    "papermill": {
     "duration": 0.022334,
     "end_time": "2022-03-09T21:52:55.606766",
     "exception": false,
     "start_time": "2022-03-09T21:52:55.584432",
     "status": "completed"
    },
    "tags": []
   },
   "source": [
    "# Visualization"
   ]
  },
  {
   "cell_type": "code",
   "execution_count": 5,
   "id": "f220623c",
   "metadata": {
    "execution": {
     "iopub.execute_input": "2022-03-09T21:52:55.655864Z",
     "iopub.status.busy": "2022-03-09T21:52:55.655204Z",
     "iopub.status.idle": "2022-03-09T21:52:56.841859Z",
     "shell.execute_reply": "2022-03-09T21:52:56.840938Z",
     "shell.execute_reply.started": "2022-03-09T21:37:00.355275Z"
    },
    "papermill": {
     "duration": 1.212106,
     "end_time": "2022-03-09T21:52:56.842010",
     "exception": false,
     "start_time": "2022-03-09T21:52:55.629904",
     "status": "completed"
    },
    "tags": []
   },
   "outputs": [],
   "source": [
    "import seaborn as sns\n",
    "import matplotlib.pyplot as plt"
   ]
  },
  {
   "cell_type": "code",
   "execution_count": 6,
   "id": "91213cb8",
   "metadata": {
    "execution": {
     "iopub.execute_input": "2022-03-09T21:52:56.902532Z",
     "iopub.status.busy": "2022-03-09T21:52:56.901850Z",
     "iopub.status.idle": "2022-03-09T21:52:57.429672Z",
     "shell.execute_reply": "2022-03-09T21:52:57.428972Z",
     "shell.execute_reply.started": "2022-03-09T21:38:21.313688Z"
    },
    "papermill": {
     "duration": 0.56467,
     "end_time": "2022-03-09T21:52:57.429814",
     "exception": false,
     "start_time": "2022-03-09T21:52:56.865144",
     "status": "completed"
    },
    "tags": []
   },
   "outputs": [
    {
     "data": {
      "image/png": "[encoded data removed]",
      "text/plain": [
       "<Figure size 1008x864 with 2 Axes>"
      ]
     },
     "metadata": {
      "needs_background": "light"
     },
     "output_type": "display_data"
    }
   ],
   "source": [
    "plt.figure(figsize=(14,12))\n",
    "sns.heatmap(data.corr(),annot=True, vmin=-1.0, vmax=1.0)\n",
    "plt.show()"
   ]
  },
  {
   "cell_type": "markdown",
   "id": "d06513bd",
   "metadata": {
    "papermill": {
     "duration": 0.025227,
     "end_time": "2022-03-09T21:52:57.480022",
     "exception": false,
     "start_time": "2022-03-09T21:52:57.454795",
     "status": "completed"
    },
    "tags": []
   },
   "source": [
    "# Preprocesing"
   ]
  },
  {
   "cell_type": "code",
   "execution_count": 7,
   "id": "b2749862",
   "metadata": {
    "execution": {
     "iopub.execute_input": "2022-03-09T21:52:57.535478Z",
     "iopub.status.busy": "2022-03-09T21:52:57.534765Z",
     "iopub.status.idle": "2022-03-09T21:52:57.835127Z",
     "shell.execute_reply": "2022-03-09T21:52:57.834302Z",
     "shell.execute_reply.started": "2022-03-09T21:40:51.223366Z"
    },
    "papermill": {
     "duration": 0.330448,
     "end_time": "2022-03-09T21:52:57.835276",
     "exception": false,
     "start_time": "2022-03-09T21:52:57.504828",
     "status": "completed"
    },
    "tags": []
   },
   "outputs": [],
   "source": [
    "from sklearn.preprocessing import MinMaxScaler\n",
    "from sklearn.model_selection import train_test_split\n",
    "from sklearn.linear_model import LinearRegression"
   ]
  },
  {
   "cell_type": "code",
   "execution_count": 8,
   "id": "ed38f0d1",
   "metadata": {
    "execution": {
     "iopub.execute_input": "2022-03-09T21:52:57.893318Z",
     "iopub.status.busy": "2022-03-09T21:52:57.892691Z",
     "iopub.status.idle": "2022-03-09T21:52:57.895218Z",
     "shell.execute_reply": "2022-03-09T21:52:57.895733Z",
     "shell.execute_reply.started": "2022-03-09T21:41:18.647691Z"
    },
    "papermill": {
     "duration": 0.035162,
     "end_time": "2022-03-09T21:52:57.895900",
     "exception": false,
     "start_time": "2022-03-09T21:52:57.860738",
     "status": "completed"
    },
    "tags": []
   },
   "outputs": [
    {
     "data": {
      "text/plain": [
       "Score                           0\n",
       "GDP per capita                  0\n",
       "Social support                  0\n",
       "Healthy life expectancy         0\n",
       "Freedom to make life choices    0\n",
       "Generosity                      0\n",
       "Perceptions of corruption       0\n",
       "dtype: int64"
      ]
     },
     "execution_count": 8,
     "metadata": {},
     "output_type": "execute_result"
    }
   ],
   "source": [
    "data.isnull().sum()"
   ]
  },
  {
   "cell_type": "code",
   "execution_count": 9,
   "id": "a427ed45",
   "metadata": {
    "execution": {
     "iopub.execute_input": "2022-03-09T21:52:57.955953Z",
     "iopub.status.busy": "2022-03-09T21:52:57.955266Z",
     "iopub.status.idle": "2022-03-09T21:52:57.959469Z",
     "shell.execute_reply": "2022-03-09T21:52:57.958832Z",
     "shell.execute_reply.started": "2022-03-09T21:41:36.209004Z"
    },
    "papermill": {
     "duration": 0.036308,
     "end_time": "2022-03-09T21:52:57.959604",
     "exception": false,
     "start_time": "2022-03-09T21:52:57.923296",
     "status": "completed"
    },
    "tags": []
   },
   "outputs": [
    {
     "data": {
      "text/plain": [
       "Score                           float64\n",
       "GDP per capita                  float64\n",
       "Social support                  float64\n",
       "Healthy life expectancy         float64\n",
       "Freedom to make life choices    float64\n",
       "Generosity                      float64\n",
       "Perceptions of corruption       float64\n",
       "dtype: object"
      ]
     },
     "execution_count": 9,
     "metadata": {},
     "output_type": "execute_result"
    }
   ],
   "source": [
    "data.dtypes"
   ]
  },
  {
   "cell_type": "code",
   "execution_count": 10,
   "id": "7a9adb69",
   "metadata": {
    "execution": {
     "iopub.execute_input": "2022-03-09T21:52:58.032907Z",
     "iopub.status.busy": "2022-03-09T21:52:58.032141Z",
     "iopub.status.idle": "2022-03-09T21:52:58.037740Z",
     "shell.execute_reply": "2022-03-09T21:52:58.037063Z",
     "shell.execute_reply.started": "2022-03-09T21:44:20.818516Z"
    },
    "papermill": {
     "duration": 0.052049,
     "end_time": "2022-03-09T21:52:58.037880",
     "exception": false,
     "start_time": "2022-03-09T21:52:57.985831",
     "status": "completed"
    },
    "tags": []
   },
   "outputs": [
    {
     "data": {
      "text/html": [
       "<div>\n",
       "<style scoped>\n",
       "    .dataframe tbody tr th:only-of-type {\n",
       "        vertical-align: middle;\n",
       "    }\n",
       "\n",
       "    .dataframe tbody tr th {\n",
       "        vertical-align: top;\n",
       "    }\n",
       "\n",
       "    .dataframe thead th {\n",
       "        text-align: right;\n",
       "    }\n",
       "</style>\n",
       "<table border=\"1\" class=\"dataframe\">\n",
       "  <thead>\n",
       "    <tr style=\"text-align: right;\">\n",
       "      <th></th>\n",
       "      <th>GDP per capita</th>\n",
       "      <th>Social support</th>\n",
       "      <th>Healthy life expectancy</th>\n",
       "      <th>Freedom to make life choices</th>\n",
       "      <th>Generosity</th>\n",
       "      <th>Perceptions of corruption</th>\n",
       "    </tr>\n",
       "  </thead>\n",
       "  <tbody>\n",
       "    <tr>\n",
       "      <th>0</th>\n",
       "      <td>1.340</td>\n",
       "      <td>1.587</td>\n",
       "      <td>0.986</td>\n",
       "      <td>0.596</td>\n",
       "      <td>0.153</td>\n",
       "      <td>0.393</td>\n",
       "    </tr>\n",
       "    <tr>\n",
       "      <th>1</th>\n",
       "      <td>1.383</td>\n",
       "      <td>1.573</td>\n",
       "      <td>0.996</td>\n",
       "      <td>0.592</td>\n",
       "      <td>0.252</td>\n",
       "      <td>0.410</td>\n",
       "    </tr>\n",
       "    <tr>\n",
       "      <th>2</th>\n",
       "      <td>1.488</td>\n",
       "      <td>1.582</td>\n",
       "      <td>1.028</td>\n",
       "      <td>0.603</td>\n",
       "      <td>0.271</td>\n",
       "      <td>0.341</td>\n",
       "    </tr>\n",
       "    <tr>\n",
       "      <th>3</th>\n",
       "      <td>1.380</td>\n",
       "      <td>1.624</td>\n",
       "      <td>1.026</td>\n",
       "      <td>0.591</td>\n",
       "      <td>0.354</td>\n",
       "      <td>0.118</td>\n",
       "    </tr>\n",
       "    <tr>\n",
       "      <th>4</th>\n",
       "      <td>1.396</td>\n",
       "      <td>1.522</td>\n",
       "      <td>0.999</td>\n",
       "      <td>0.557</td>\n",
       "      <td>0.322</td>\n",
       "      <td>0.298</td>\n",
       "    </tr>\n",
       "    <tr>\n",
       "      <th>...</th>\n",
       "      <td>...</td>\n",
       "      <td>...</td>\n",
       "      <td>...</td>\n",
       "      <td>...</td>\n",
       "      <td>...</td>\n",
       "      <td>...</td>\n",
       "    </tr>\n",
       "    <tr>\n",
       "      <th>151</th>\n",
       "      <td>0.359</td>\n",
       "      <td>0.711</td>\n",
       "      <td>0.614</td>\n",
       "      <td>0.555</td>\n",
       "      <td>0.217</td>\n",
       "      <td>0.411</td>\n",
       "    </tr>\n",
       "    <tr>\n",
       "      <th>152</th>\n",
       "      <td>0.476</td>\n",
       "      <td>0.885</td>\n",
       "      <td>0.499</td>\n",
       "      <td>0.417</td>\n",
       "      <td>0.276</td>\n",
       "      <td>0.147</td>\n",
       "    </tr>\n",
       "    <tr>\n",
       "      <th>153</th>\n",
       "      <td>0.350</td>\n",
       "      <td>0.517</td>\n",
       "      <td>0.361</td>\n",
       "      <td>0.000</td>\n",
       "      <td>0.158</td>\n",
       "      <td>0.025</td>\n",
       "    </tr>\n",
       "    <tr>\n",
       "      <th>154</th>\n",
       "      <td>0.026</td>\n",
       "      <td>0.000</td>\n",
       "      <td>0.105</td>\n",
       "      <td>0.225</td>\n",
       "      <td>0.235</td>\n",
       "      <td>0.035</td>\n",
       "    </tr>\n",
       "    <tr>\n",
       "      <th>155</th>\n",
       "      <td>0.306</td>\n",
       "      <td>0.575</td>\n",
       "      <td>0.295</td>\n",
       "      <td>0.010</td>\n",
       "      <td>0.202</td>\n",
       "      <td>0.091</td>\n",
       "    </tr>\n",
       "  </tbody>\n",
       "</table>\n",
       "<p>156 rows × 6 columns</p>\n",
       "</div>"
      ],
      "text/plain": [
       "     GDP per capita  Social support  Healthy life expectancy  \\\n",
       "0             1.340           1.587                    0.986   \n",
       "1             1.383           1.573                    0.996   \n",
       "2             1.488           1.582                    1.028   \n",
       "3             1.380           1.624                    1.026   \n",
       "4             1.396           1.522                    0.999   \n",
       "..              ...             ...                      ...   \n",
       "151           0.359           0.711                    0.614   \n",
       "152           0.476           0.885                    0.499   \n",
       "153           0.350           0.517                    0.361   \n",
       "154           0.026           0.000                    0.105   \n",
       "155           0.306           0.575                    0.295   \n",
       "\n",
       "     Freedom to make life choices  Generosity  Perceptions of corruption  \n",
       "0                           0.596       0.153                      0.393  \n",
       "1                           0.592       0.252                      0.410  \n",
       "2                           0.603       0.271                      0.341  \n",
       "3                           0.591       0.354                      0.118  \n",
       "4                           0.557       0.322                      0.298  \n",
       "..                            ...         ...                        ...  \n",
       "151                         0.555       0.217                      0.411  \n",
       "152                         0.417       0.276                      0.147  \n",
       "153                         0.000       0.158                      0.025  \n",
       "154                         0.225       0.235                      0.035  \n",
       "155                         0.010       0.202                      0.091  \n",
       "\n",
       "[156 rows x 6 columns]"
      ]
     },
     "execution_count": 10,
     "metadata": {},
     "output_type": "execute_result"
    }
   ],
   "source": [
    "y = data['Score']\n",
    "X = data.drop(['Score'],axis=1)\n",
    "X"
   ]
  },
  {
   "cell_type": "code",
   "execution_count": 11,
   "id": "faa6ed0f",
   "metadata": {
    "execution": {
     "iopub.execute_input": "2022-03-09T21:52:58.101190Z",
     "iopub.status.busy": "2022-03-09T21:52:58.100539Z",
     "iopub.status.idle": "2022-03-09T21:52:58.103790Z",
     "shell.execute_reply": "2022-03-09T21:52:58.103134Z",
     "shell.execute_reply.started": "2022-03-09T21:44:49.925483Z"
    },
    "papermill": {
     "duration": 0.038761,
     "end_time": "2022-03-09T21:52:58.103922",
     "exception": false,
     "start_time": "2022-03-09T21:52:58.065161",
     "status": "completed"
    },
    "tags": []
   },
   "outputs": [],
   "source": [
    "scaler = MinMaxScaler()\n",
    "X = pd.DataFrame(scaler.fit_transform(X), columns=X.columns)\n"
   ]
  },
  {
   "cell_type": "code",
   "execution_count": 12,
   "id": "f285076d",
   "metadata": {
    "execution": {
     "iopub.execute_input": "2022-03-09T21:52:58.176169Z",
     "iopub.status.busy": "2022-03-09T21:52:58.170084Z",
     "iopub.status.idle": "2022-03-09T21:52:58.179842Z",
     "shell.execute_reply": "2022-03-09T21:52:58.179204Z",
     "shell.execute_reply.started": "2022-03-09T21:44:52.633889Z"
    },
    "papermill": {
     "duration": 0.048551,
     "end_time": "2022-03-09T21:52:58.179987",
     "exception": false,
     "start_time": "2022-03-09T21:52:58.131436",
     "status": "completed"
    },
    "tags": []
   },
   "outputs": [
    {
     "data": {
      "text/html": [
       "<div>\n",
       "<style scoped>\n",
       "    .dataframe tbody tr th:only-of-type {\n",
       "        vertical-align: middle;\n",
       "    }\n",
       "\n",
       "    .dataframe tbody tr th {\n",
       "        vertical-align: top;\n",
       "    }\n",
       "\n",
       "    .dataframe thead th {\n",
       "        text-align: right;\n",
       "    }\n",
       "</style>\n",
       "<table border=\"1\" class=\"dataframe\">\n",
       "  <thead>\n",
       "    <tr style=\"text-align: right;\">\n",
       "      <th></th>\n",
       "      <th>GDP per capita</th>\n",
       "      <th>Social support</th>\n",
       "      <th>Healthy life expectancy</th>\n",
       "      <th>Freedom to make life choices</th>\n",
       "      <th>Generosity</th>\n",
       "      <th>Perceptions of corruption</th>\n",
       "    </tr>\n",
       "  </thead>\n",
       "  <tbody>\n",
       "    <tr>\n",
       "      <th>0</th>\n",
       "      <td>0.795724</td>\n",
       "      <td>0.977217</td>\n",
       "      <td>0.864154</td>\n",
       "      <td>0.944532</td>\n",
       "      <td>0.270318</td>\n",
       "      <td>0.867550</td>\n",
       "    </tr>\n",
       "    <tr>\n",
       "      <th>1</th>\n",
       "      <td>0.821259</td>\n",
       "      <td>0.968596</td>\n",
       "      <td>0.872918</td>\n",
       "      <td>0.938193</td>\n",
       "      <td>0.445230</td>\n",
       "      <td>0.905077</td>\n",
       "    </tr>\n",
       "    <tr>\n",
       "      <th>2</th>\n",
       "      <td>0.883610</td>\n",
       "      <td>0.974138</td>\n",
       "      <td>0.900964</td>\n",
       "      <td>0.955626</td>\n",
       "      <td>0.478799</td>\n",
       "      <td>0.752759</td>\n",
       "    </tr>\n",
       "    <tr>\n",
       "      <th>3</th>\n",
       "      <td>0.819477</td>\n",
       "      <td>1.000000</td>\n",
       "      <td>0.899211</td>\n",
       "      <td>0.936609</td>\n",
       "      <td>0.625442</td>\n",
       "      <td>0.260486</td>\n",
       "    </tr>\n",
       "    <tr>\n",
       "      <th>4</th>\n",
       "      <td>0.828979</td>\n",
       "      <td>0.937192</td>\n",
       "      <td>0.875548</td>\n",
       "      <td>0.882726</td>\n",
       "      <td>0.568905</td>\n",
       "      <td>0.657837</td>\n",
       "    </tr>\n",
       "    <tr>\n",
       "      <th>...</th>\n",
       "      <td>...</td>\n",
       "      <td>...</td>\n",
       "      <td>...</td>\n",
       "      <td>...</td>\n",
       "      <td>...</td>\n",
       "      <td>...</td>\n",
       "    </tr>\n",
       "    <tr>\n",
       "      <th>151</th>\n",
       "      <td>0.213183</td>\n",
       "      <td>0.437808</td>\n",
       "      <td>0.538124</td>\n",
       "      <td>0.879556</td>\n",
       "      <td>0.383392</td>\n",
       "      <td>0.907285</td>\n",
       "    </tr>\n",
       "    <tr>\n",
       "      <th>152</th>\n",
       "      <td>0.282660</td>\n",
       "      <td>0.544951</td>\n",
       "      <td>0.437336</td>\n",
       "      <td>0.660856</td>\n",
       "      <td>0.487633</td>\n",
       "      <td>0.324503</td>\n",
       "    </tr>\n",
       "    <tr>\n",
       "      <th>153</th>\n",
       "      <td>0.207838</td>\n",
       "      <td>0.318350</td>\n",
       "      <td>0.316389</td>\n",
       "      <td>0.000000</td>\n",
       "      <td>0.279152</td>\n",
       "      <td>0.055188</td>\n",
       "    </tr>\n",
       "    <tr>\n",
       "      <th>154</th>\n",
       "      <td>0.015439</td>\n",
       "      <td>0.000000</td>\n",
       "      <td>0.092025</td>\n",
       "      <td>0.356577</td>\n",
       "      <td>0.415194</td>\n",
       "      <td>0.077263</td>\n",
       "    </tr>\n",
       "    <tr>\n",
       "      <th>155</th>\n",
       "      <td>0.181710</td>\n",
       "      <td>0.354064</td>\n",
       "      <td>0.258545</td>\n",
       "      <td>0.015848</td>\n",
       "      <td>0.356890</td>\n",
       "      <td>0.200883</td>\n",
       "    </tr>\n",
       "  </tbody>\n",
       "</table>\n",
       "<p>156 rows × 6 columns</p>\n",
       "</div>"
      ],
      "text/plain": [
       "     GDP per capita  Social support  Healthy life expectancy  \\\n",
       "0          0.795724        0.977217                 0.864154   \n",
       "1          0.821259        0.968596                 0.872918   \n",
       "2          0.883610        0.974138                 0.900964   \n",
       "3          0.819477        1.000000                 0.899211   \n",
       "4          0.828979        0.937192                 0.875548   \n",
       "..              ...             ...                      ...   \n",
       "151        0.213183        0.437808                 0.538124   \n",
       "152        0.282660        0.544951                 0.437336   \n",
       "153        0.207838        0.318350                 0.316389   \n",
       "154        0.015439        0.000000                 0.092025   \n",
       "155        0.181710        0.354064                 0.258545   \n",
       "\n",
       "     Freedom to make life choices  Generosity  Perceptions of corruption  \n",
       "0                        0.944532    0.270318                   0.867550  \n",
       "1                        0.938193    0.445230                   0.905077  \n",
       "2                        0.955626    0.478799                   0.752759  \n",
       "3                        0.936609    0.625442                   0.260486  \n",
       "4                        0.882726    0.568905                   0.657837  \n",
       "..                            ...         ...                        ...  \n",
       "151                      0.879556    0.383392                   0.907285  \n",
       "152                      0.660856    0.487633                   0.324503  \n",
       "153                      0.000000    0.279152                   0.055188  \n",
       "154                      0.356577    0.415194                   0.077263  \n",
       "155                      0.015848    0.356890                   0.200883  \n",
       "\n",
       "[156 rows x 6 columns]"
      ]
     },
     "execution_count": 12,
     "metadata": {},
     "output_type": "execute_result"
    }
   ],
   "source": [
    "X"
   ]
  },
  {
   "cell_type": "code",
   "execution_count": 13,
   "id": "3a189921",
   "metadata": {
    "execution": {
     "iopub.execute_input": "2022-03-09T21:52:58.243891Z",
     "iopub.status.busy": "2022-03-09T21:52:58.243206Z",
     "iopub.status.idle": "2022-03-09T21:52:58.246901Z",
     "shell.execute_reply": "2022-03-09T21:52:58.247449Z",
     "shell.execute_reply.started": "2022-03-09T21:49:37.982137Z"
    },
    "papermill": {
     "duration": 0.03977,
     "end_time": "2022-03-09T21:52:58.247624",
     "exception": false,
     "start_time": "2022-03-09T21:52:58.207854",
     "status": "completed"
    },
    "tags": []
   },
   "outputs": [],
   "source": [
    "X_train, X_test, y_train, y_test = train_test_split(X, y, train_size = 0.7)"
   ]
  },
  {
   "cell_type": "markdown",
   "id": "d32e814a",
   "metadata": {
    "papermill": {
     "duration": 0.027047,
     "end_time": "2022-03-09T21:52:58.302305",
     "exception": false,
     "start_time": "2022-03-09T21:52:58.275258",
     "status": "completed"
    },
    "tags": []
   },
   "source": [
    "# Training"
   ]
  },
  {
   "cell_type": "code",
   "execution_count": 14,
   "id": "8c774e30",
   "metadata": {
    "execution": {
     "iopub.execute_input": "2022-03-09T21:52:58.370259Z",
     "iopub.status.busy": "2022-03-09T21:52:58.369602Z",
     "iopub.status.idle": "2022-03-09T21:52:58.389090Z",
     "shell.execute_reply": "2022-03-09T21:52:58.388447Z",
     "shell.execute_reply.started": "2022-03-09T21:49:40.375569Z"
    },
    "papermill": {
     "duration": 0.059368,
     "end_time": "2022-03-09T21:52:58.389225",
     "exception": false,
     "start_time": "2022-03-09T21:52:58.329857",
     "status": "completed"
    },
    "tags": []
   },
   "outputs": [
    {
     "data": {
      "text/plain": [
       "LinearRegression()"
      ]
     },
     "execution_count": 14,
     "metadata": {},
     "output_type": "execute_result"
    }
   ],
   "source": [
    "model = LinearRegression()\n",
    "model.fit(X_train, y_train)"
   ]
  },
  {
   "cell_type": "code",
   "execution_count": 15,
   "id": "40610bd4",
   "metadata": {
    "execution": {
     "iopub.execute_input": "2022-03-09T21:52:58.454921Z",
     "iopub.status.busy": "2022-03-09T21:52:58.454239Z",
     "iopub.status.idle": "2022-03-09T21:52:58.457784Z",
     "shell.execute_reply": "2022-03-09T21:52:58.457149Z",
     "shell.execute_reply.started": "2022-03-09T21:49:42.958974Z"
    },
    "papermill": {
     "duration": 0.039625,
     "end_time": "2022-03-09T21:52:58.457929",
     "exception": false,
     "start_time": "2022-03-09T21:52:58.418304",
     "status": "completed"
    },
    "tags": []
   },
   "outputs": [
    {
     "name": "stdout",
     "output_type": "stream",
     "text": [
      "Regression R2: 0.7872054676831449 \n"
     ]
    }
   ],
   "source": [
    "print(f'Regression R2: {model.score(X_test, y_test)} ')"
   ]
  }
 ],
 "metadata": {
  "kernelspec": {
   "display_name": "Python 3",
   "language": "python",
   "name": "python3"
  },
  "language_info": {
   "codemirror_mode": {
    "name": "ipython",
    "version": 3
   },
   "file_extension": ".py",
   "mimetype": "text/x-python",
   "name": "python",
   "nbconvert_exporter": "python",
   "pygments_lexer": "ipython3",
   "version": "3.7.12"
  },
  "papermill": {
   "default_parameters": {},
   "duration": 16.368821,
   "end_time": "2022-03-09T21:52:59.498550",
   "environment_variables": {},
   "exception": null,
   "input_path": "__notebook__.ipynb",
   "output_path": "__notebook__.ipynb",
   "parameters": {},
   "start_time": "2022-03-09T21:52:43.129729",
   "version": "2.3.3"
  }
 },
 "nbformat": 4,
 "nbformat_minor": 5
}
